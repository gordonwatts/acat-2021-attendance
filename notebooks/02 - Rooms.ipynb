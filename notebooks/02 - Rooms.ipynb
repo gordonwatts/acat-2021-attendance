{
 "cells": [
  {
   "cell_type": "markdown",
   "metadata": {},
   "source": [
    "# Room Info\n",
    "\n",
    "Some basic info about rooms"
   ]
  },
  {
   "cell_type": "markdown",
   "metadata": {},
   "source": [
    "## Setup"
   ]
  },
  {
   "cell_type": "code",
   "execution_count": 22,
   "metadata": {},
   "outputs": [],
   "source": [
    "from pathlib import Path\n",
    "import os\n",
    "import sys\n",
    "sys.path.append(f'{Path(os.getcwd()) / \"..\"}')\n",
    "\n",
    "import yaml\n",
    "from zoom_data import load_all"
   ]
  },
  {
   "cell_type": "markdown",
   "metadata": {},
   "source": [
    "## Loading Data"
   ]
  },
  {
   "cell_type": "code",
   "execution_count": 23,
   "metadata": {},
   "outputs": [],
   "source": [
    "zoom_data = load_all(Path('../../acat-2021-data'))"
   ]
  },
  {
   "cell_type": "code",
   "execution_count": 24,
   "metadata": {},
   "outputs": [],
   "source": [
    "room_names = set(z._topic for z in zoom_data)"
   ]
  },
  {
   "cell_type": "markdown",
   "metadata": {},
   "source": [
    "## Checks\n",
    "\n",
    "Make sure the names all look good"
   ]
  },
  {
   "cell_type": "code",
   "execution_count": 25,
   "metadata": {},
   "outputs": [
    {
     "data": {
      "text/plain": [
       "{'Plenary - 11-29',\n",
       " 'Plenary - 11-30',\n",
       " 'Plenary - 12-1',\n",
       " 'Plenary - 12-2',\n",
       " 'Plenary - 12-3',\n",
       " 'Track 1',\n",
       " 'Track 2',\n",
       " 'Track 3'}"
      ]
     },
     "execution_count": 25,
     "metadata": {},
     "output_type": "execute_result"
    }
   ],
   "source": [
    "room_names"
   ]
  },
  {
   "cell_type": "code",
   "execution_count": 26,
   "metadata": {},
   "outputs": [
    {
     "name": "stdout",
     "output_type": "stream",
     "text": [
      "NO - BAD ROOM NAME - STOP\n",
      "{'Plenary - 12-3', 'Plenary - 11-29', 'Plenary - 11-30', 'Plenary - 12-2', 'Track 3', 'Track 2', 'Plenary - 12-1', 'Track 1'}\n"
     ]
    }
   ],
   "source": [
    "def good_name(n: str):\n",
    "    if n.startswith('Track'):\n",
    "        return True\n",
    "    if n.startswith('Plenary') and len(n.split(' ')) == 1:\n",
    "        return True\n",
    "    return False\n",
    "\n",
    "if any(not good_name(z) for z in room_names):\n",
    "    print(\"NO - BAD ROOM NAME - STOP\")\n",
    "    print(room_names)"
   ]
  },
  {
   "cell_type": "markdown",
   "metadata": {},
   "source": [
    "## Write out info"
   ]
  },
  {
   "cell_type": "code",
   "execution_count": 27,
   "metadata": {},
   "outputs": [
    {
     "data": {
      "text/plain": [
       "[{'name': 'Plenary - 11-29', 'id': 1},\n",
       " {'name': 'Plenary - 11-30', 'id': 2},\n",
       " {'name': 'Plenary - 12-1', 'id': 3},\n",
       " {'name': 'Plenary - 12-2', 'id': 4},\n",
       " {'name': 'Plenary - 12-3', 'id': 5},\n",
       " {'name': 'Track 1', 'id': 10},\n",
       " {'name': 'Track 2', 'id': 11},\n",
       " {'name': 'Track 3', 'id': 12}]"
      ]
     },
     "execution_count": 27,
     "metadata": {},
     "output_type": "execute_result"
    }
   ],
   "source": [
    "seen_id = set()\n",
    "def is_unique(id: int):\n",
    "    if id in seen_id:\n",
    "        return True\n",
    "    seen_id.add(id)\n",
    "    return False\n",
    "\n",
    "room_name_data = [\n",
    "    {\n",
    "        \"name\": z.room_name,\n",
    "        \"id\": z.id\n",
    "    }\n",
    "    for z in zoom_data if not is_unique(z.id)\n",
    "]\n",
    "room_name_data = sorted(room_name_data, key=lambda d: d['id'])\n",
    "room_name_data"
   ]
  },
  {
   "cell_type": "code",
   "execution_count": 28,
   "metadata": {},
   "outputs": [],
   "source": [
    "with open('../web/_data/rooms.yml', 'w') as outfile:\n",
    "    yaml.dump(room_name_data, outfile)"
   ]
  }
 ],
 "metadata": {
  "kernelspec": {
   "display_name": "Python 3",
   "language": "python",
   "name": "python3"
  },
  "language_info": {
   "codemirror_mode": {
    "name": "ipython",
    "version": 3
   },
   "file_extension": ".py",
   "mimetype": "text/x-python",
   "name": "python",
   "nbconvert_exporter": "python",
   "pygments_lexer": "ipython3",
   "version": "3.9.6"
  }
 },
 "nbformat": 4,
 "nbformat_minor": 4
}
